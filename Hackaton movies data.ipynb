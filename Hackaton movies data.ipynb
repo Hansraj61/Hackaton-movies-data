{
 "cells": [
  {
   "cell_type": "code",
   "execution_count": 6,
   "metadata": {
    "id": "vkXrxFL2WCl_"
   },
   "outputs": [],
   "source": [
    "import pandas as pd\n",
    "\n",
    "movies = pd.read_csv('movies.csv')\n",
    "ratings = pd.read_csv('ratings.csv')\n",
    "links = pd.read_csv('links.csv')\n",
    "tags = pd.read_csv('tags.csv')\n"
   ]
  },
  {
   "cell_type": "code",
   "execution_count": 9,
   "metadata": {
    "colab": {
     "base_uri": "https://localhost:8080/"
    },
    "id": "t0E3KlCLWLG3",
    "outputId": "c29ad212-3c19-4533-e05d-307603b33aa8"
   },
   "outputs": [
    {
     "name": "stdout",
     "output_type": "stream",
     "text": [
      "Number of CSV files: 4\n"
     ]
    }
   ],
   "source": [
    "csv_files = ['movies.csv', 'ratings.csv', 'links.csv', 'tags.csv']\n",
    "print(f'Number of CSV files: {len(csv_files)}')"
   ]
  },
  {
   "cell_type": "code",
   "execution_count": null,
   "metadata": {
    "colab": {
     "base_uri": "https://localhost:8080/"
    },
    "id": "4jtfefouWOPI",
    "outputId": "40058cbc-d453-4062-f405-6c843ac5d69e"
   },
   "outputs": [],
   "source": [
    "print(f'Shape of movies.csv: {movies.shape}')\n",
    "print(f'Shape of ratings.csv: {ratings.shape}')"
   ]
  },
  {
   "cell_type": "code",
   "execution_count": 4,
   "metadata": {
    "colab": {
     "base_uri": "https://localhost:8080/"
    },
    "id": "r5OTEXxnWQnh",
    "outputId": "a110110d-1161-4840-9263-88243cf55a4b"
   },
   "outputs": [
    {
     "name": "stdout",
     "output_type": "stream",
     "text": [
      "Shape of movies.csv: (9742, 3)\n",
      "Shape of ratings.csv: (100836, 4)\n",
      "Number of unique userId: 610\n"
     ]
    }
   ],
   "source": [
    "print(f'Shape of movies.csv: {movies.shape}')\n",
    "print(f'Shape of ratings.csv: {ratings.shape}')\n",
    "unique_users = ratings['userId'].nunique()\n",
    "print(f'Number of unique userId: {unique_users}')\n"
   ]
  },
  {
   "cell_type": "code",
   "execution_count": 12,
   "metadata": {
    "colab": {
     "base_uri": "https://localhost:8080/"
    },
    "id": "OrQrCUHKWTPP",
    "outputId": "a6827a20-03ec-42ad-bf0d-0bc50e0d0a5c"
   },
   "outputs": [
    {
     "name": "stdout",
     "output_type": "stream",
     "text": [
      "Movie with maximum number of user ratings: Forrest Gump (1994)\n"
     ]
    }
   ],
   "source": [
    "ratings_count = ratings.groupby('movieId').size().reset_index(name='counts')\n",
    "max_ratings_movie = ratings_count[ratings_count['counts'] == ratings_count['counts'].max()]\n",
    "max_ratings_movie_id = max_ratings_movie['movieId'].values[0]\n",
    "\n",
    "max_rated_movie = movies[movies['movieId'] == max_ratings_movie_id]['title'].values[0]\n",
    "print(f'Movie with maximum number of user ratings: {max_rated_movie}')\n"
   ]
  },
  {
   "cell_type": "code",
   "execution_count": 13,
   "metadata": {
    "colab": {
     "base_uri": "https://localhost:8080/"
    },
    "id": "m3L_sIwiWVpZ",
    "outputId": "cfb306be-cb05-4935-e510-a6c6fbca3786"
   },
   "outputs": [
    {
     "name": "stdout",
     "output_type": "stream",
     "text": [
      "Tags for Matrix, The (1999): ['martial arts' 'sci-fi' 'alternate universe' 'philosophy'\n",
      " 'post apocalyptic']\n"
     ]
    }
   ],
   "source": [
    "matrix_movie_id = movies[movies['title'].str.contains('Matrix, The')]['movieId'].values[0]\n",
    "matrix_tags = tags[tags['movieId'] == matrix_movie_id]['tag'].unique()\n",
    "print(f'Tags for Matrix, The (1999): {matrix_tags}')\n"
   ]
  },
  {
   "cell_type": "code",
   "execution_count": 14,
   "metadata": {
    "colab": {
     "base_uri": "https://localhost:8080/"
    },
    "id": "XT5XQmxNWYMR",
    "outputId": "a9a76bcb-2d8e-4a95-cefb-8f42c6dac181"
   },
   "outputs": [
    {
     "name": "stdout",
     "output_type": "stream",
     "text": [
      "Average rating for Terminator 2: Judgment Day (1991): 3.970982142857143\n"
     ]
    }
   ],
   "source": [
    "t2_movie_id = movies[movies['title'].str.contains('Terminator 2')]['movieId'].values[0]\n",
    "t2_ratings = ratings[ratings['movieId'] == t2_movie_id]['rating'].mean()\n",
    "print(f'Average rating for Terminator 2: Judgment Day (1991): {t2_ratings}')"
   ]
  },
  {
   "cell_type": "code",
   "execution_count": 7,
   "metadata": {
    "colab": {
     "base_uri": "https://localhost:8080/",
     "height": 430
    },
    "id": "oeBnubFdWeip",
    "outputId": "d84ceade-a898-47e3-b49c-ef2cf99cb3b3"
   },
   "outputs": [
    {
     "data": {
      "image/png": "[encoded data removed]",
      "text/plain": [
       "<Figure size 1000x600 with 1 Axes>"
      ]
     },
     "metadata": {},
     "output_type": "display_data"
    }
   ],
   "source": [
    "import pandas as pd\n",
    "import matplotlib.pyplot as plt\n",
    "\n",
    "movie_title = \"Fight Club (1999)\"\n",
    "fight_club_movie_id = movies[movies['title'] == movie_title]['movieId'].values\n",
    "\n",
    "if len(fight_club_movie_id) == 0:\n",
    "    print(f\"Movie title '{movie_title}' not found in the database.\")\n",
    "else:\n",
    "    \n",
    "    fight_club_movie_id = fight_club_movie_id[0]\n",
    "    \n",
    "    \n",
    "    ratings = ratings[ratings['movieId'] == fight_club_movie_id]['rating']\n",
    "\n",
    "    plt.figure(figsize=(10, 6))\n",
    "    plt.hist(ratings, bins=range(1, 7), edgecolor='black', alpha=0.7)\n",
    "    plt.title('Distribution of User Ratings for \"Fight Club (1999)\"')\n",
    "    plt.xlabel('Rating')\n",
    "    plt.ylabel('Number of Ratings')\n",
    "    plt.xticks(range(1, 6))  # Adjust the x-ticks to match rating scale\n",
    "    plt.grid(True)\n",
    "    plt.show()\n"
   ]
  },
  {
   "cell_type": "code",
   "execution_count": 16,
   "metadata": {
    "id": "p1JCcJ0JWiaH"
   },
   "outputs": [],
   "source": [
    "grouped_ratings = ratings.groupby('movieId').agg({'rating': ['count', 'mean']})\n",
    "grouped_ratings.columns = ['count', 'mean_rating']\n",
    "\n",
    "filtered_movies = grouped_ratings[grouped_ratings['count'] > 50]\n",
    "\n",
    "popular_movies = pd.merge(filtered_movies, movies, on='movieId')\n"
   ]
  },
  {
   "cell_type": "code",
   "execution_count": 17,
   "metadata": {
    "colab": {
     "base_uri": "https://localhost:8080/"
    },
    "id": "oAf0dNGfWe-g",
    "outputId": "2b549861-d8d1-422f-e164-166c1b589471"
   },
   "outputs": [
    {
     "name": "stdout",
     "output_type": "stream",
     "text": [
      "Most popular movie based on average user ratings: Shawshank Redemption, The (1994)\n"
     ]
    }
   ],
   "source": [
    "most_popular_movie = popular_movies[popular_movies['mean_rating'] == popular_movies['mean_rating'].max()]\n",
    "print(f'Most popular movie based on average user ratings: {most_popular_movie[\"title\"].values[0]}')\n"
   ]
  },
  {
   "cell_type": "code",
   "execution_count": 18,
   "metadata": {
    "colab": {
     "base_uri": "https://localhost:8080/"
    },
    "id": "gmyM3AYYWpmf",
    "outputId": "2a54a827-3d4e-4691-9d16-34de61e3603c"
   },
   "outputs": [
    {
     "name": "stdout",
     "output_type": "stream",
     "text": [
      "Top 5 popular movies based on the number of user ratings:\n",
      "                                title  count\n",
      "61                Forrest Gump (1994)    329\n",
      "53   Shawshank Redemption, The (1994)    317\n",
      "49                Pulp Fiction (1994)    307\n",
      "99   Silence of the Lambs, The (1991)    279\n",
      "248                Matrix, The (1999)    278\n"
     ]
    }
   ],
   "source": [
    "top_5_movies = popular_movies.sort_values(by='count', ascending=False).head(5)\n",
    "print('Top 5 popular movies based on the number of user ratings:')\n",
    "print(top_5_movies[['title', 'count']])\n"
   ]
  },
  {
   "cell_type": "code",
   "execution_count": 6,
   "metadata": {
    "colab": {
     "base_uri": "https://localhost:8080/"
    },
    "id": "Fx8tb7wqRAjv",
    "outputId": "1d7e4249-581b-420c-b277-2e114e52ba6d"
   },
   "outputs": [
    {
     "name": "stdout",
     "output_type": "stream",
     "text": [
      "Number of movies with more than 50 ratings: 436\n"
     ]
    }
   ],
   "source": [
    "import pandas as pd\n",
    "movies_df = pd.read_csv('movies.csv')\n",
    "ratings_df = pd.read_csv('ratings.csv')\n",
    "links_df = pd.read_csv('links.csv')\n",
    "\n",
    "ratings_grouped = ratings_df.groupby('movieId').agg({'rating': ['count', 'mean']}).reset_index()\n",
    "ratings_grouped.columns = ['movieId', 'rating_count', 'rating_mean']\n",
    "\n",
    "filtered_movies_df = ratings_grouped[ratings_grouped['rating_count'] > 50]\n",
    "\n",
    "filtered_movies_df = filtered_movies_df.merge(movies_df, on='movieId')\n",
    "filtered_movies_df = filtered_movies_df.merge(links_df, on='movieId')\n",
    "\n",
    "print(f\"Number of movies with more than 50 ratings: {len(filtered_movies_df)}\")\n"
   ]
  },
  {
   "cell_type": "markdown",
   "metadata": {},
   "source": [
    "## Webscrapping"
   ]
  },
  {
   "cell_type": "code",
   "execution_count": 2,
   "metadata": {
    "colab": {
     "base_uri": "https://localhost:8080/"
    },
    "id": "_UqiJjj8RZ6h",
    "outputId": "0d15c25b-6f9c-4531-aad2-f9403cd05abe"
   },
   "outputs": [
    {
     "name": "stdout",
     "output_type": "stream",
     "text": [
      "   movieId                    title  \\\n",
      "0        1         Toy Story (1995)   \n",
      "1        2           Jumanji (1995)   \n",
      "2        3  Grumpier Old Men (1995)   \n",
      "3        6              Heat (1995)   \n",
      "4        7           Sabrina (1995)   \n",
      "\n",
      "                                        imdb_reviews  \n",
      "0  [I am a big fan of the animated movies coming ...  \n",
      "1  [I have not seen this movie in more then a dec...  \n",
      "2  [Some people see this as an inferior sequel to...  \n",
      "3  [I have very little interest in most action fi...  \n",
      "4  [Although terribly predictable and a bit too l...  \n"
     ]
    }
   ],
   "source": [
    "import requests\n",
    "from bs4 import BeautifulSoup\n",
    "import time\n",
    "\n",
    "def get_imdb_reviews(imdb_id, max_reviews=10):\n",
    "    reviews = []\n",
    "    url = f\"https://www.imdb.com/title/tt{imdb_id}/reviews\"\n",
    "    response = requests.get(url)\n",
    "    soup = BeautifulSoup(response.text, 'html.parser')\n",
    "\n",
    "    review_blocks = soup.find_all('div', class_='text show-more__control', limit=max_reviews)\n",
    "\n",
    "    for review in review_blocks:\n",
    "        reviews.append(review.text.strip())\n",
    "\n",
    "    return reviews\n",
    "filtered_movies_df['imdb_reviews'] = filtered_movies_df['imdbId'].apply(lambda x: get_imdb_reviews(str(x).zfill(7)))\n",
    "\n",
    "print(filtered_movies_df[['movieId', 'title', 'imdb_reviews']].head())##First five rows\n"
   ]
  },
  {
   "cell_type": "code",
   "execution_count": 3,
   "metadata": {
    "id": "ZbOeQOK0Sk2q"
   },
   "outputs": [],
   "source": [
    "filtered_movies_df.to_csv('movies_with_reviews.csv', index=False) #saving to csv file\n"
   ]
  },
  {
   "cell_type": "code",
   "execution_count": 4,
   "metadata": {
    "colab": {
     "base_uri": "https://localhost:8080/"
    },
    "id": "amDyx58RUCYZ",
    "outputId": "cd42da6d-e228-4366-e800-4e3aee91ff07"
   },
   "outputs": [
    {
     "name": "stdout",
     "output_type": "stream",
     "text": [
      "Number of Sci-Fi movies with more than 50 ratings: 88\n"
     ]
    }
   ],
   "source": [
    "sci_fi_movies_df = filtered_movies_df[filtered_movies_df['genres'].str.contains('Sci-Fi')]\n",
    "\n",
    "print(f\"Number of Sci-Fi movies with more than 50 ratings: {len(sci_fi_movies_df)}\")## checking shape \n"
   ]
  }
 ],
 "metadata": {
  "colab": {
   "provenance": []
  },
  "kernelspec": {
   "display_name": "Python 3 (ipykernel)",
   "language": "python",
   "name": "python3"
  },
  "language_info": {
   "codemirror_mode": {
    "name": "ipython",
    "version": 3
   },
   "file_extension": ".py",
   "mimetype": "text/x-python",
   "name": "python",
   "nbconvert_exporter": "python",
   "pygments_lexer": "ipython3",
   "version": "3.11.5"
  }
 },
 "nbformat": 4,
 "nbformat_minor": 1
}
